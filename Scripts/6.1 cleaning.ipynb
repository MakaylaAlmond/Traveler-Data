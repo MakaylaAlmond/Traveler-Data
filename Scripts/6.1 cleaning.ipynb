{
 "cells": [
  {
   "cell_type": "markdown",
   "id": "3c9b35d3",
   "metadata": {},
   "source": [
    "# Importing Libraries"
   ]
  },
  {
   "cell_type": "code",
   "execution_count": 1,
   "id": "7bc564d4",
   "metadata": {},
   "outputs": [],
   "source": [
    "#importing libraries\n",
    "import pandas as pd\n",
    "import numpy as np\n",
    "import os"
   ]
  },
  {
   "cell_type": "code",
   "execution_count": 2,
   "id": "504f372e",
   "metadata": {},
   "outputs": [],
   "source": [
    "df_travel = pd.read_csv(r'C:\\Users\\makay\\Documents\\Data Immersion 6\\6.1 assignment.csv',index_col = False)"
   ]
  },
  {
   "cell_type": "code",
   "execution_count": 3,
   "id": "317fa6bf",
   "metadata": {},
   "outputs": [
    {
     "data": {
      "text/plain": [
       "Trip ID                   int64\n",
       "Destination              object\n",
       "Start date               object\n",
       "End date                 object\n",
       "Duration (days)           int64\n",
       "Traveler name            object\n",
       "Traveler age              int64\n",
       "Traveler gender          object\n",
       "Traveler nationality     object\n",
       "Accommodation type       object\n",
       "Accommodation cost       object\n",
       "Transportation type      object\n",
       " Transportation cost     object\n",
       "dtype: object"
      ]
     },
     "execution_count": 3,
     "metadata": {},
     "output_type": "execute_result"
    }
   ],
   "source": [
    "df_travel.dtypes"
   ]
  },
  {
   "cell_type": "code",
   "execution_count": 4,
   "id": "c05021bb",
   "metadata": {},
   "outputs": [
    {
     "data": {
      "text/plain": [
       "(137, 13)"
      ]
     },
     "execution_count": 4,
     "metadata": {},
     "output_type": "execute_result"
    }
   ],
   "source": [
    "df_travel.shape"
   ]
  },
  {
   "cell_type": "code",
   "execution_count": 5,
   "id": "d6b81f91",
   "metadata": {},
   "outputs": [
    {
     "data": {
      "text/html": [
       "<div>\n",
       "<style scoped>\n",
       "    .dataframe tbody tr th:only-of-type {\n",
       "        vertical-align: middle;\n",
       "    }\n",
       "\n",
       "    .dataframe tbody tr th {\n",
       "        vertical-align: top;\n",
       "    }\n",
       "\n",
       "    .dataframe thead th {\n",
       "        text-align: right;\n",
       "    }\n",
       "</style>\n",
       "<table border=\"1\" class=\"dataframe\">\n",
       "  <thead>\n",
       "    <tr style=\"text-align: right;\">\n",
       "      <th></th>\n",
       "      <th>Trip ID</th>\n",
       "      <th>Destination</th>\n",
       "      <th>Start date</th>\n",
       "      <th>End date</th>\n",
       "      <th>Duration (days)</th>\n",
       "      <th>Traveler name</th>\n",
       "      <th>Traveler age</th>\n",
       "      <th>Traveler gender</th>\n",
       "      <th>Traveler nationality</th>\n",
       "      <th>Accommodation type</th>\n",
       "      <th>Accommodation cost</th>\n",
       "      <th>Transportation type</th>\n",
       "      <th>Transportation cost</th>\n",
       "    </tr>\n",
       "  </thead>\n",
       "  <tbody>\n",
       "    <tr>\n",
       "      <th>0</th>\n",
       "      <td>1</td>\n",
       "      <td>London, United Kingdom</td>\n",
       "      <td>5/1/2023</td>\n",
       "      <td>5/8/2023</td>\n",
       "      <td>7</td>\n",
       "      <td>John Smith</td>\n",
       "      <td>35</td>\n",
       "      <td>Male</td>\n",
       "      <td>American</td>\n",
       "      <td>Hotel</td>\n",
       "      <td>$1,200.00</td>\n",
       "      <td>Flight</td>\n",
       "      <td>$600.00</td>\n",
       "    </tr>\n",
       "    <tr>\n",
       "      <th>1</th>\n",
       "      <td>2</td>\n",
       "      <td>Phuket, Thailand</td>\n",
       "      <td>6/15/2023</td>\n",
       "      <td>6/20/2023</td>\n",
       "      <td>5</td>\n",
       "      <td>Jane Doe</td>\n",
       "      <td>28</td>\n",
       "      <td>Female</td>\n",
       "      <td>Canadian</td>\n",
       "      <td>Resort</td>\n",
       "      <td>$800.00</td>\n",
       "      <td>Flight</td>\n",
       "      <td>$500.00</td>\n",
       "    </tr>\n",
       "    <tr>\n",
       "      <th>2</th>\n",
       "      <td>3</td>\n",
       "      <td>Bali, Indonesia</td>\n",
       "      <td>7/1/2023</td>\n",
       "      <td>7/8/2023</td>\n",
       "      <td>7</td>\n",
       "      <td>David Lee</td>\n",
       "      <td>45</td>\n",
       "      <td>Male</td>\n",
       "      <td>Korean</td>\n",
       "      <td>Villa</td>\n",
       "      <td>$1,000.00</td>\n",
       "      <td>Flight</td>\n",
       "      <td>$700.00</td>\n",
       "    </tr>\n",
       "    <tr>\n",
       "      <th>3</th>\n",
       "      <td>4</td>\n",
       "      <td>New York, United States of America</td>\n",
       "      <td>8/15/2023</td>\n",
       "      <td>8/29/2023</td>\n",
       "      <td>14</td>\n",
       "      <td>Sarah Johnson</td>\n",
       "      <td>29</td>\n",
       "      <td>Female</td>\n",
       "      <td>British</td>\n",
       "      <td>Hotel</td>\n",
       "      <td>$2,000.00</td>\n",
       "      <td>Flight</td>\n",
       "      <td>$1,000.00</td>\n",
       "    </tr>\n",
       "    <tr>\n",
       "      <th>4</th>\n",
       "      <td>5</td>\n",
       "      <td>Tokyo, Japan</td>\n",
       "      <td>9/10/2023</td>\n",
       "      <td>9/17/2023</td>\n",
       "      <td>7</td>\n",
       "      <td>Kim Nguyen</td>\n",
       "      <td>26</td>\n",
       "      <td>Female</td>\n",
       "      <td>Vietnamese</td>\n",
       "      <td>Airbnb</td>\n",
       "      <td>$700.00</td>\n",
       "      <td>Train</td>\n",
       "      <td>$200.00</td>\n",
       "    </tr>\n",
       "  </tbody>\n",
       "</table>\n",
       "</div>"
      ],
      "text/plain": [
       "   Trip ID                         Destination Start date   End date  \\\n",
       "0        1              London, United Kingdom   5/1/2023   5/8/2023   \n",
       "1        2                    Phuket, Thailand  6/15/2023  6/20/2023   \n",
       "2        3                     Bali, Indonesia   7/1/2023   7/8/2023   \n",
       "3        4  New York, United States of America  8/15/2023  8/29/2023   \n",
       "4        5                        Tokyo, Japan  9/10/2023  9/17/2023   \n",
       "\n",
       "   Duration (days)  Traveler name  Traveler age Traveler gender  \\\n",
       "0                7     John Smith            35            Male   \n",
       "1                5       Jane Doe            28          Female   \n",
       "2                7      David Lee            45            Male   \n",
       "3               14  Sarah Johnson            29          Female   \n",
       "4                7     Kim Nguyen            26          Female   \n",
       "\n",
       "  Traveler nationality Accommodation type Accommodation cost  \\\n",
       "0             American              Hotel         $1,200.00    \n",
       "1             Canadian             Resort           $800.00    \n",
       "2               Korean              Villa         $1,000.00    \n",
       "3              British              Hotel         $2,000.00    \n",
       "4           Vietnamese             Airbnb           $700.00    \n",
       "\n",
       "  Transportation type  Transportation cost   \n",
       "0              Flight              $600.00   \n",
       "1              Flight              $500.00   \n",
       "2              Flight              $700.00   \n",
       "3              Flight            $1,000.00   \n",
       "4               Train              $200.00   "
      ]
     },
     "execution_count": 5,
     "metadata": {},
     "output_type": "execute_result"
    }
   ],
   "source": [
    "df_travel.head()"
   ]
  },
  {
   "cell_type": "code",
   "execution_count": 6,
   "id": "8e4bf7a2",
   "metadata": {},
   "outputs": [
    {
     "data": {
      "text/plain": [
       "Trip ID                  0\n",
       "Destination              0\n",
       "Start date               0\n",
       "End date                 0\n",
       "Duration (days)          0\n",
       "Traveler name            0\n",
       "Traveler age             0\n",
       "Traveler gender          0\n",
       "Traveler nationality     0\n",
       "Accommodation type       0\n",
       "Accommodation cost       0\n",
       "Transportation type      1\n",
       " Transportation cost     1\n",
       "dtype: int64"
      ]
     },
     "execution_count": 6,
     "metadata": {},
     "output_type": "execute_result"
    }
   ],
   "source": [
    "#Check for missing values\n",
    "\n",
    "df_travel.isnull().sum()"
   ]
  },
  {
   "cell_type": "markdown",
   "id": "75331ce2",
   "metadata": {},
   "source": [
    "1 missing value in transportation type and cost "
   ]
  },
  {
   "cell_type": "code",
   "execution_count": 7,
   "id": "cb4d15d8",
   "metadata": {},
   "outputs": [],
   "source": [
    "df_dups = df_travel[df_travel.duplicated()]"
   ]
  },
  {
   "cell_type": "code",
   "execution_count": 8,
   "id": "224a0bbe",
   "metadata": {},
   "outputs": [
    {
     "data": {
      "text/plain": [
       "(0, 13)"
      ]
     },
     "execution_count": 8,
     "metadata": {},
     "output_type": "execute_result"
    }
   ],
   "source": [
    "df_dups.shape"
   ]
  },
  {
   "cell_type": "markdown",
   "id": "2f5eac95",
   "metadata": {},
   "source": [
    "No duplicates found"
   ]
  },
  {
   "cell_type": "code",
   "execution_count": null,
   "id": "f2b6c44d",
   "metadata": {},
   "outputs": [],
   "source": []
  }
 ],
 "metadata": {
  "kernelspec": {
   "display_name": "Python 3 (ipykernel)",
   "language": "python",
   "name": "python3"
  },
  "language_info": {
   "codemirror_mode": {
    "name": "ipython",
    "version": 3
   },
   "file_extension": ".py",
   "mimetype": "text/x-python",
   "name": "python",
   "nbconvert_exporter": "python",
   "pygments_lexer": "ipython3",
   "version": "3.9.13"
  }
 },
 "nbformat": 4,
 "nbformat_minor": 5
}
